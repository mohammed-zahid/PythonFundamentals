{
 "cells": [
  {
   "cell_type": "code",
   "execution_count": null,
   "id": "4590cdee-a1c8-41a2-b785-cc849ac31268",
   "metadata": {},
   "outputs": [],
   "source": []
  },
  {
   "cell_type": "code",
   "execution_count": null,
   "id": "47c248dc-a56a-4b87-9a91-a502701b148a",
   "metadata": {},
   "outputs": [],
   "source": []
  },
  {
   "cell_type": "code",
   "execution_count": 8,
   "id": "55c206fa-8a21-422c-b84f-984825c2e257",
   "metadata": {},
   "outputs": [],
   "source": [
    "# introduction to python clases :\n",
    "\n",
    "# class ======> Class is a high level blue print of the program\n",
    "\n",
    "# methods ====> A function written inside the class is called as a method\n",
    "\n",
    "# attributes =====> A variable written inside a class is called as an attribute\n",
    "\n",
    "# objects/ instances ===is an approach by using which we can be able to access the class methods\n",
    "\n",
    "# self : self is temp placeholder for an object\n",
    "\n",
    "# init : it a special method / magical method\n",
    "\n",
    "# whats are OOPS : Object oriented programming :"
   ]
  },
  {
   "cell_type": "code",
   "execution_count": 9,
   "id": "b0d54c2f-af72-4614-bddc-08a6dae5fd45",
   "metadata": {},
   "outputs": [],
   "source": [
    "# class example : req : design a dog class with its functionalities\n",
    "\n",
    "class Dog: # this is a class declartion\n",
    "    \"\"\"A simple attempt to model the Dog\"\"\"\n",
    "\n",
    "    def __init__(self,name,age): # this is a method\n",
    "        \"\"\"initialize name and age attributes\"\"\"\n",
    "        self.name = name # these are attributes\n",
    "        self.age = age\n",
    "\n",
    "    def sit(self): #this is a method\n",
    "        \"\"\"simulate a dog siiting in response to a command\"\"\"\n",
    "        print(f\"{self.name} is now sitting\")\n",
    "\n",
    "    def roll_over(self): #this is a method\n",
    "        \"\"\"simulate rolling over in response to the command\"\"\"\n",
    "        print(f\"{self.name} rolled over\")"
   ]
  },
  {
   "cell_type": "code",
   "execution_count": 10,
   "id": "5e4462a7-0048-4923-8df2-62117f0c018a",
   "metadata": {},
   "outputs": [],
   "source": [
    "my_dog = Dog('bruno',6)"
   ]
  },
  {
   "cell_type": "code",
   "execution_count": 11,
   "id": "a4ec2e9c-ac87-480d-9b70-37036ab72d24",
   "metadata": {},
   "outputs": [
    {
     "name": "stdout",
     "output_type": "stream",
     "text": [
      "bruno is now sitting\n"
     ]
    }
   ],
   "source": [
    "my_dog.sit()"
   ]
  },
  {
   "cell_type": "code",
   "execution_count": 12,
   "id": "6b72d55c-6045-4c36-8b61-2a93de8fd574",
   "metadata": {},
   "outputs": [],
   "source": [
    "test = Dog('rex',3)"
   ]
  },
  {
   "cell_type": "code",
   "execution_count": 13,
   "id": "7ca8f8b8-0be6-4102-bfcd-8d63908ff6c1",
   "metadata": {},
   "outputs": [
    {
     "name": "stdout",
     "output_type": "stream",
     "text": [
      "rex is now sitting\n"
     ]
    }
   ],
   "source": [
    "test.sit()"
   ]
  },
  {
   "cell_type": "code",
   "execution_count": 14,
   "id": "7790764f-b8de-4fa9-81d4-ec669bf2f193",
   "metadata": {},
   "outputs": [
    {
     "name": "stdout",
     "output_type": "stream",
     "text": [
      "rex rolled over\n"
     ]
    }
   ],
   "source": [
    "test.roll_over()"
   ]
  },
  {
   "cell_type": "code",
   "execution_count": 15,
   "id": "39c7c4fe-6026-4106-a8d7-3d3c99a285f2",
   "metadata": {},
   "outputs": [],
   "source": [
    "class car:\n",
    "    \"\"\" Simple attemp to represent the car\"\"\"\n",
    "    def __init__(self,make,model,year):\n",
    "        \"\"\" Ininitailize the attributes to describe the car \"\"\"\n",
    "        sel.make = make\n",
    "        self.model = model\n",
    "        self.year = year\n",
    "\n",
    "    def get_descriptive_name(self):\n",
    "        \"\"\" return descriptive name \"\"\"\n",
    "        long_name = f\"{self.make} {self.model} {self.year} \"\n",
    "        return long_name.title()\n"
   ]
  },
  {
   "cell_type": "code",
   "execution_count": 16,
   "id": "3678d03e-6289-4d7b-b2d7-b00683ea7d0f",
   "metadata": {
    "scrolled": true
   },
   "outputs": [
    {
     "ename": "NameError",
     "evalue": "name 'sel' is not defined",
     "output_type": "error",
     "traceback": [
      "\u001b[1;31m---------------------------------------------------------------------------\u001b[0m",
      "\u001b[1;31mNameError\u001b[0m                                 Traceback (most recent call last)",
      "Cell \u001b[1;32mIn[16], line 1\u001b[0m\n\u001b[1;32m----> 1\u001b[0m mycar \u001b[38;5;241m=\u001b[39m car(\u001b[38;5;124m\"\u001b[39m\u001b[38;5;124mAudi\u001b[39m\u001b[38;5;124m\"\u001b[39m, \u001b[38;5;124m\"\u001b[39m\u001b[38;5;124ma4\u001b[39m\u001b[38;5;124m\"\u001b[39m, \u001b[38;5;241m2020\u001b[39m)\n",
      "Cell \u001b[1;32mIn[15], line 5\u001b[0m, in \u001b[0;36mcar.__init__\u001b[1;34m(self, make, model, year)\u001b[0m\n\u001b[0;32m      3\u001b[0m \u001b[38;5;28;01mdef\u001b[39;00m\u001b[38;5;250m \u001b[39m\u001b[38;5;21m__init__\u001b[39m(\u001b[38;5;28mself\u001b[39m,make,model,year):\n\u001b[0;32m      4\u001b[0m \u001b[38;5;250m    \u001b[39m\u001b[38;5;124;03m\"\"\" Ininitailize the attributes to describe the car \"\"\"\u001b[39;00m\n\u001b[1;32m----> 5\u001b[0m     sel\u001b[38;5;241m.\u001b[39mmake \u001b[38;5;241m=\u001b[39m make\n\u001b[0;32m      6\u001b[0m     \u001b[38;5;28mself\u001b[39m\u001b[38;5;241m.\u001b[39mmodel \u001b[38;5;241m=\u001b[39m model\n\u001b[0;32m      7\u001b[0m     \u001b[38;5;28mself\u001b[39m\u001b[38;5;241m.\u001b[39myear \u001b[38;5;241m=\u001b[39m year\n",
      "\u001b[1;31mNameError\u001b[0m: name 'sel' is not defined"
     ]
    }
   ],
   "source": [
    "mycar = car(\"Audi\", \"a4\", 2020)"
   ]
  },
  {
   "cell_type": "code",
   "execution_count": 17,
   "id": "8ed83f1a-c41e-406f-b095-cd0eccd028b3",
   "metadata": {},
   "outputs": [],
   "source": [
    "# First, define the car class\n",
    "class car:\n",
    "    def __init__(self, make, model, year):\n",
    "        self.make = make    # Note: using 'self' not 'sel'\n",
    "        self.model = model\n",
    "        self.year = year\n",
    "\n",
    "# Now create the instance\n",
    "mycar = car(\"Audi\", \"a4\", 2020)"
   ]
  },
  {
   "cell_type": "code",
   "execution_count": 19,
   "id": "2cd4f40d-4678-4d5b-957b-a0499506e97e",
   "metadata": {},
   "outputs": [
    {
     "name": "stdout",
     "output_type": "stream",
     "text": [
      "Audi A4 2020 \n"
     ]
    }
   ],
   "source": [
    "class Car:\n",
    "    def __init__(self, make, model, year):\n",
    "        self.make = make\n",
    "        self.model = model\n",
    "        self.year = year\n",
    "        \n",
    "    def get_descriptive_name(self):\n",
    "        \"\"\" return descriptive name \"\"\"\n",
    "        long_name = f\"{self.make} {self.model} {self.year} \"\n",
    "        return long_name.title()\n",
    "\n",
    "# Example usage\n",
    "mycar = Car(\"audi\", \"a4\", 2020)\n",
    "print(mycar.get_descriptive_name())  # This will print: \"Audi A4 2020 \""
   ]
  },
  {
   "cell_type": "code",
   "execution_count": null,
   "id": "36b9ee57-0d95-4a0a-93c5-f8f1d602bf82",
   "metadata": {},
   "outputs": [],
   "source": []
  }
 ],
 "metadata": {
  "kernelspec": {
   "display_name": "Python [conda env:base] *",
   "language": "python",
   "name": "conda-base-py"
  },
  "language_info": {
   "codemirror_mode": {
    "name": "ipython",
    "version": 3
   },
   "file_extension": ".py",
   "mimetype": "text/x-python",
   "name": "python",
   "nbconvert_exporter": "python",
   "pygments_lexer": "ipython3",
   "version": "3.13.5"
  }
 },
 "nbformat": 4,
 "nbformat_minor": 5
}

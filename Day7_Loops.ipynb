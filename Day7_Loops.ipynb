{
 "cells": [
  {
   "cell_type": "code",
   "execution_count": null,
   "id": "57153b01-763e-4173-9ffb-5674b3543c26",
   "metadata": {},
   "outputs": [],
   "source": [
    "# Loops\n",
    "# for loops = execute a block of code a fixed number of times.\n",
    "# You can iterate over a range, string, sequence, etc ."
   ]
  },
  {
   "cell_type": "code",
   "execution_count": 1,
   "id": "93221bcc-e690-4452-b944-bd53e02f36cc",
   "metadata": {},
   "outputs": [],
   "source": [
    "students = [ 'durga', 'dinesh' , 'kavya' , 'noor' , 'raza' , 'abid','joseph']"
   ]
  },
  {
   "cell_type": "code",
   "execution_count": 2,
   "id": "3f8eb897-0ac4-4414-84bf-f76b52409514",
   "metadata": {},
   "outputs": [
    {
     "name": "stdout",
     "output_type": "stream",
     "text": [
      "Keep up the good work,Dinesh\n"
     ]
    }
   ],
   "source": [
    "print(f\"Keep up the good work,{(students[1].title())}\")"
   ]
  },
  {
   "cell_type": "code",
   "execution_count": 3,
   "id": "6178c926-475c-40b7-a081-91c0639de042",
   "metadata": {},
   "outputs": [
    {
     "name": "stdout",
     "output_type": "stream",
     "text": [
      "keep up the good work,Durga\n",
      "keep up the good work,Dinesh\n",
      "keep up the good work,Kavya\n",
      "keep up the good work,Noor\n",
      "keep up the good work,Raza\n",
      "keep up the good work,Abid\n",
      "keep up the good work,Joseph\n"
     ]
    }
   ],
   "source": [
    "for x in students:\n",
    "    print(f\"keep up the good work,{x.title()}\")"
   ]
  },
  {
   "cell_type": "code",
   "execution_count": null,
   "id": "e6311c0e-de91-43f6-8184-6b69fec910c9",
   "metadata": {},
   "outputs": [],
   "source": [
    "# introduction to for loop .\n",
    "Genra syntax of for loop\n",
    "for tempvar in mainvar:\n",
    "               print(tempvar)"
   ]
  },
  {
   "cell_type": "code",
   "execution_count": 4,
   "id": "2c9118fb-b8d3-4a69-835d-811e91826cf5",
   "metadata": {},
   "outputs": [],
   "source": [
    "students = ['akshay' , 'bhavana' , 'chandu' , 'dinesh' , 'ehsan']\n"
   ]
  },
  {
   "cell_type": "code",
   "execution_count": 5,
   "id": "057b813f-b59b-4030-a9fa-a9e7745e17ef",
   "metadata": {},
   "outputs": [
    {
     "name": "stdout",
     "output_type": "stream",
     "text": [
      "keep up the good work,Akshay\n",
      "keep up the good work,Bhavana\n",
      "keep up the good work,Chandu\n",
      "keep up the good work,Dinesh\n",
      "keep up the good work,Ehsan\n"
     ]
    }
   ],
   "source": [
    "for x in students:\n",
    "    print(f\"keep up the good work,{x.title()}\")"
   ]
  },
  {
   "cell_type": "code",
   "execution_count": 6,
   "id": "3ba73b5a-57c6-4e9d-b3b2-c2ff16cd50b0",
   "metadata": {},
   "outputs": [
    {
     "name": "stdout",
     "output_type": "stream",
     "text": [
      "keep up the good work,Akshay\n",
      "I am waiting to your work, Akshay \n",
      "keep up the good work,Bhavana\n",
      "I am waiting to your work, Bhavana \n",
      "keep up the good work,Chandu\n",
      "I am waiting to your work, Chandu \n",
      "keep up the good work,Dinesh\n",
      "I am waiting to your work, Dinesh \n",
      "keep up the good work,Ehsan\n",
      "I am waiting to your work, Ehsan \n"
     ]
    }
   ],
   "source": [
    "for a in students:\n",
    "    print(f\"keep up the good work,{a.title()}\")\n",
    "    print(f\"I am waiting to your work, {a.title()} \")"
   ]
  },
  {
   "cell_type": "code",
   "execution_count": 7,
   "id": "acef855c-a384-4d98-94a4-f3be7706d281",
   "metadata": {},
   "outputs": [
    {
     "name": "stdout",
     "output_type": "stream",
     "text": [
      "keep up the good work,Akshay\n",
      "I am waiting to your work, Akshay \n",
      "\n",
      "keep up the good work,Bhavana\n",
      "I am waiting to your work, Bhavana \n",
      "\n",
      "keep up the good work,Chandu\n",
      "I am waiting to your work, Chandu \n",
      "\n",
      "keep up the good work,Dinesh\n",
      "I am waiting to your work, Dinesh \n",
      "\n",
      "keep up the good work,Ehsan\n",
      "I am waiting to your work, Ehsan \n",
      "\n"
     ]
    }
   ],
   "source": [
    "for a in students:\n",
    "    print(f\"keep up the good work,{a.title()}\")\n",
    "    print(f\"I am waiting to your work, {a.title()} \\n\")"
   ]
  },
  {
   "cell_type": "code",
   "execution_count": 8,
   "id": "dc650714-9f13-4c76-bdaa-47c44610009c",
   "metadata": {},
   "outputs": [
    {
     "name": "stdout",
     "output_type": "stream",
     "text": [
      "keep up the good work,Akshay\n",
      "I am waiting to recive your submission for today, Akshay \n",
      "\n",
      "keep up the good work,Bhavana\n",
      "I am waiting to recive your submission for today, Bhavana \n",
      "\n",
      "keep up the good work,Chandu\n",
      "I am waiting to recive your submission for today, Chandu \n",
      "\n",
      "keep up the good work,Dinesh\n",
      "I am waiting to recive your submission for today, Dinesh \n",
      "\n",
      "keep up the good work,Ehsan\n",
      "I am waiting to recive your submission for today, Ehsan \n",
      "\n",
      "Thanks all for attaending the session\n"
     ]
    }
   ],
   "source": [
    "for a in students:\n",
    "    print(f\"keep up the good work,{a.title()}\")\n",
    "    print(f\"I am waiting to recive your submission for today, {a.title()} \\n\")\n",
    "print(\"Thanks all for attaending the session\")"
   ]
  },
  {
   "cell_type": "code",
   "execution_count": null,
   "id": "47be1d36-6729-4ebb-8df6-a795c6ffc22a",
   "metadata": {},
   "outputs": [],
   "source": []
  }
 ],
 "metadata": {
  "kernelspec": {
   "display_name": "Python [conda env:base] *",
   "language": "python",
   "name": "conda-base-py"
  },
  "language_info": {
   "codemirror_mode": {
    "name": "ipython",
    "version": 3
   },
   "file_extension": ".py",
   "mimetype": "text/x-python",
   "name": "python",
   "nbconvert_exporter": "python",
   "pygments_lexer": "ipython3",
   "version": "3.13.5"
  }
 },
 "nbformat": 4,
 "nbformat_minor": 5
}

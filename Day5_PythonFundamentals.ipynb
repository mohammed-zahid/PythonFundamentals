{
 "cells": [
  {
   "cell_type": "code",
   "execution_count": 1,
   "id": "49ea9767-4ac5-40c4-9d19-eb807275cd95",
   "metadata": {},
   "outputs": [],
   "source": [
    "# continue with list"
   ]
  },
  {
   "cell_type": "code",
   "execution_count": 2,
   "id": "4cfd3128-76fa-49e4-b4c2-eaa5a846265c",
   "metadata": {},
   "outputs": [],
   "source": [
    "# organising the list datatype"
   ]
  },
  {
   "cell_type": "code",
   "execution_count": 4,
   "id": "acda6a5d-ab4a-40e9-a11b-b2b5540d514f",
   "metadata": {},
   "outputs": [
    {
     "name": "stdout",
     "output_type": "stream",
     "text": [
      "['bmw', 'tata', 'suzuki', 'audi', 'toyota', 'benz']\n",
      "['audi', 'benz', 'bmw', 'suzuki', 'tata', 'toyota']\n",
      "['bmw', 'tata', 'suzuki', 'audi', 'toyota', 'benz']\n",
      "['benz', 'toyota', 'audi', 'suzuki', 'tata', 'bmw']\n"
     ]
    }
   ],
   "source": [
    "\n",
    "cars = ['bmw', 'tata', 'suzuki', 'audi', 'toyota', 'benz']\n",
    "\n",
    "print(cars)\n",
    "# Output: ['bmw', 'tata', 'suzuki', 'audi', 'toyota', 'benz']\n",
    "\n",
    "len(cars)\n",
    "\n",
    "# I want to organise the list in alphabetical order.\n",
    "# A, B, C, D\n",
    "# There are 2 approaches:\n",
    "# 1. temporary approach >>> sorted method >>> we will be able to get the original order defined.\n",
    "# 2. permanent approach >>> sort method\n",
    "\n",
    "print(sorted(cars))\n",
    "# Output: ['audi', 'benz', 'bmw', 'suzuki', 'tata', 'toyota']\n",
    "\n",
    "print(cars)\n",
    "# Output: ['bmw', 'tata', 'suzuki', 'audi', 'toyota', 'benz']\n",
    "# Output: ['audi', 'benz', 'bmw', 'suzuki', 'tata', 'toyota']\n",
    "\n",
    "# interview_question : what is the difference between sorted and\n",
    "\n",
    "# I want to count the no of elements in the list\n",
    "len(cars)\n",
    "# Output: 6\n",
    "\n",
    "# I want to print the list in the A -> Z, Z -> A order\n",
    "cars.reverse()\n",
    "print(cars)\n",
    "# Output: ['toyota', 'tata', 'suzuki', 'bmw', 'benz', 'audi']\n",
    "\n",
    "# is used for commenting the code.\n",
    "\n",
    "# Introduction to slicing :"
   ]
  },
  {
   "cell_type": "code",
   "execution_count": 6,
   "id": "15b927ca-7d79-4f0f-a508-184acb5124ed",
   "metadata": {},
   "outputs": [],
   "source": [
    "# Tupil\n",
    "Dimensions = (20, 50)"
   ]
  },
  {
   "cell_type": "code",
   "execution_count": 8,
   "id": "b1f043be-46e8-441b-acf4-9cbeb73834d9",
   "metadata": {},
   "outputs": [
    {
     "name": "stdout",
     "output_type": "stream",
     "text": [
      "(20, 50)\n"
     ]
    },
    {
     "data": {
      "text/plain": [
       "tuple"
      ]
     },
     "execution_count": 8,
     "metadata": {},
     "output_type": "execute_result"
    }
   ],
   "source": [
    "print(Dimensions)\n",
    "type(Dimensions)\n"
   ]
  },
  {
   "cell_type": "code",
   "execution_count": 9,
   "id": "47c1a3fe-07b6-4ffe-984b-c8e6e8a87d82",
   "metadata": {},
   "outputs": [],
   "source": [
    "cars.reverse()"
   ]
  },
  {
   "cell_type": "code",
   "execution_count": 10,
   "id": "55ab7be4-cd8f-4cf9-ba62-2c7eea84977c",
   "metadata": {},
   "outputs": [
    {
     "name": "stdout",
     "output_type": "stream",
     "text": [
      "['bmw', 'tata', 'suzuki', 'audi', 'toyota', 'benz']\n"
     ]
    }
   ],
   "source": [
    "print(cars)"
   ]
  },
  {
   "cell_type": "code",
   "execution_count": null,
   "id": "c5976163-6e85-4919-a39a-7c2daf32a45a",
   "metadata": {},
   "outputs": [],
   "source": []
  }
 ],
 "metadata": {
  "kernelspec": {
   "display_name": "Python [conda env:base] *",
   "language": "python",
   "name": "conda-base-py"
  },
  "language_info": {
   "codemirror_mode": {
    "name": "ipython",
    "version": 3
   },
   "file_extension": ".py",
   "mimetype": "text/x-python",
   "name": "python",
   "nbconvert_exporter": "python",
   "pygments_lexer": "ipython3",
   "version": "3.13.5"
  }
 },
 "nbformat": 4,
 "nbformat_minor": 5
}

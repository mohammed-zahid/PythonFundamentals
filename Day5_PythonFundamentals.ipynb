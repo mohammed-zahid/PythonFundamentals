{
 "cells": [
  {
   "cell_type": "code",
   "execution_count": 1,
   "id": "49ea9767-4ac5-40c4-9d19-eb807275cd95",
   "metadata": {},
   "outputs": [],
   "source": [
    "# continue with list"
   ]
  },
  {
   "cell_type": "code",
   "execution_count": 2,
   "id": "4cfd3128-76fa-49e4-b4c2-eaa5a846265c",
   "metadata": {},
   "outputs": [],
   "source": [
    "# organising the list datatype"
   ]
  },
  {
   "cell_type": "code",
   "execution_count": 3,
   "id": "acda6a5d-ab4a-40e9-a11b-b2b5540d514f",
   "metadata": {},
   "outputs": [
    {
     "ename": "SyntaxError",
     "evalue": "invalid syntax (1710351959.py, line 35)",
     "output_type": "error",
     "traceback": [
      "\u001b[1;36m  Cell \u001b[1;32mIn[3], line 35\u001b[1;36m\u001b[0m\n\u001b[1;33m    ```\u001b[0m\n\u001b[1;37m    ^\u001b[0m\n\u001b[1;31mSyntaxError\u001b[0m\u001b[1;31m:\u001b[0m invalid syntax\n"
     ]
    }
   ],
   "source": [
    "\n",
    "cars = ['bmw', 'tata', 'suzuki', 'audi', 'toyota', 'benz']\n",
    "\n",
    "print(cars)\n",
    "# Output: ['bmw', 'tata', 'suzuki', 'audi', 'toyota', 'benz']\n",
    "\n",
    "len(cars)\n",
    "\n",
    "# I want to organise the list in alphabetical order.\n",
    "# A, B, C, D\n",
    "# There are 2 approaches:\n",
    "# 1. temporary approach >>> sorted method >>> we will be able to get the original order defined.\n",
    "# 2. permanent approach >>> sort method\n",
    "\n",
    "print(sorted(cars))\n",
    "# Output: ['audi', 'benz', 'bmw', 'suzuki', 'tata', 'toyota']\n",
    "\n",
    "print(cars)\n",
    "# Output: ['bmw', 'tata', 'suzuki', 'audi', 'toyota', 'benz']\n",
    "# Output: ['audi', 'benz', 'bmw', 'suzuki', 'tata', 'toyota']\n",
    "\n",
    "# interview_question : what is the difference between sorted and\n",
    "\n",
    "# I want to count the no of elements in the list\n",
    "len(cars)\n",
    "# Output: 6\n",
    "\n",
    "# I want to print the list in the A -> Z, Z -> A order\n",
    "cars.reverse()\n",
    "print(cars)\n",
    "# Output: ['toyota', 'tata', 'suzuki', 'bmw', 'benz', 'audi']\n",
    "\n",
    "# is used for commenting the code.\n",
    "\n",
    "# Introduction to slicing :"
   ]
  }
 ],
 "metadata": {
  "kernelspec": {
   "display_name": "Python [conda env:base] *",
   "language": "python",
   "name": "conda-base-py"
  },
  "language_info": {
   "codemirror_mode": {
    "name": "ipython",
    "version": 3
   },
   "file_extension": ".py",
   "mimetype": "text/x-python",
   "name": "python",
   "nbconvert_exporter": "python",
   "pygments_lexer": "ipython3",
   "version": "3.13.5"
  }
 },
 "nbformat": 4,
 "nbformat_minor": 5
}

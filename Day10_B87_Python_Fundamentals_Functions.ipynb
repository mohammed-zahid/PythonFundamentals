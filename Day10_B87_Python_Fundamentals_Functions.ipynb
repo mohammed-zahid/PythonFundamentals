{
 "cells": [
  {
   "cell_type": "code",
   "execution_count": 2,
   "id": "3546089e-3e7f-4dac-9fcd-e7c54610f9b6",
   "metadata": {},
   "outputs": [
    {
     "name": "stdout",
     "output_type": "stream",
     "text": [
      "I have a Dog\n",
      "My Dog's name is Bruno \n"
     ]
    }
   ],
   "source": [
    "def describe_pet(animal_type, pet_name):\n",
    "    print(f\"I have a {animal_type}\")\n",
    "    print(f\"My {animal_type}'s name is {pet_name} \")\n",
    "\n",
    "describe_pet('Dog', 'Bruno')"
   ]
  },
  {
   "cell_type": "code",
   "execution_count": 3,
   "id": "e5a23e6d-0f90-482a-a676-a4f4fa8dc98e",
   "metadata": {},
   "outputs": [
    {
     "ename": "TypeError",
     "evalue": "describe_pet() missing 1 required positional argument: 'pet_name'",
     "output_type": "error",
     "traceback": [
      "\u001b[1;31m---------------------------------------------------------------------------\u001b[0m",
      "\u001b[1;31mTypeError\u001b[0m                                 Traceback (most recent call last)",
      "Cell \u001b[1;32mIn[3], line 1\u001b[0m\n\u001b[1;32m----> 1\u001b[0m describe_pet(\u001b[38;5;124m'\u001b[39m\u001b[38;5;124mDog\u001b[39m\u001b[38;5;124m'\u001b[39m)\n",
      "\u001b[1;31mTypeError\u001b[0m: describe_pet() missing 1 required positional argument: 'pet_name'"
     ]
    }
   ],
   "source": [
    "describe_pet('Dog') # if we will pass one argument, it will display error"
   ]
  },
  {
   "cell_type": "code",
   "execution_count": 4,
   "id": "ff28d1ca-84db-4986-bdc5-83b6d5c60a9a",
   "metadata": {},
   "outputs": [
    {
     "name": "stdout",
     "output_type": "stream",
     "text": [
      "I have a dog\n",
      "My dog's name is Bruno \n"
     ]
    }
   ],
   "source": [
    "def describe_pet(pet_name, animal_type = 'dog'):\n",
    "    print(f\"I have a {animal_type}\")\n",
    "    print(f\"My {animal_type}'s name is {pet_name} \")\n",
    "\n",
    "describe_pet('Bruno')"
   ]
  },
  {
   "cell_type": "code",
   "execution_count": 6,
   "id": "0f99a4af-c309-4059-8ec9-b885bdb79b9f",
   "metadata": {},
   "outputs": [
    {
     "name": "stdout",
     "output_type": "stream",
     "text": [
      "I have a cat\n",
      "My cat's name is Bruno \n"
     ]
    }
   ],
   "source": [
    "describe_pet('Bruno', 'cat')"
   ]
  },
  {
   "cell_type": "code",
   "execution_count": 7,
   "id": "74730686-0d4a-4598-8d39-100b09e26a8a",
   "metadata": {},
   "outputs": [],
   "source": [
    "# returniing a simple value\n",
    "# take first and last name an dreturn it in neatly fomrat"
   ]
  },
  {
   "cell_type": "code",
   "execution_count": 8,
   "id": "17aad697-d5d0-4f38-b111-90ff877425cb",
   "metadata": {},
   "outputs": [],
   "source": [
    "def get_formatted_name(first_name,last_name):\n",
    "    full_name = f\"{first_name}, {last_name}\"\n",
    "    return full_name.title()"
   ]
  },
  {
   "cell_type": "code",
   "execution_count": 10,
   "id": "3ca5f194-24c2-43b1-a54f-f3865e7f6750",
   "metadata": {},
   "outputs": [
    {
     "name": "stdout",
     "output_type": "stream",
     "text": [
      "Mohammed, Zahid\n"
     ]
    }
   ],
   "source": [
    "person = get_formatted_name (\"mohammed\",\"zahid\")\n",
    "print(person)"
   ]
  },
  {
   "cell_type": "code",
   "execution_count": 11,
   "id": "7eb1e619-a9e5-446d-aabf-a94cba498faa",
   "metadata": {},
   "outputs": [],
   "source": [
    "# Passong arbitraray no of arguments"
   ]
  },
  {
   "cell_type": "code",
   "execution_count": 18,
   "id": "2103bece-4544-4411-bf13-2c37ece1c4ab",
   "metadata": {},
   "outputs": [],
   "source": [
    "def make_pizza(toppings):  # never use (\"toppings\"): comma \n",
    "    \"\"\"print list if requested toppings\"\"\"\n",
    "    print(toppings)"
   ]
  },
  {
   "cell_type": "code",
   "execution_count": 19,
   "id": "2b454037-3ab1-492c-a0a7-addc485c3776",
   "metadata": {},
   "outputs": [
    {
     "name": "stdout",
     "output_type": "stream",
     "text": [
      "olive\n"
     ]
    }
   ],
   "source": [
    "make_pizza(\"olive\")"
   ]
  },
  {
   "cell_type": "code",
   "execution_count": 20,
   "id": "cc739867-2fd7-4bae-8031-edd294322297",
   "metadata": {},
   "outputs": [
    {
     "ename": "TypeError",
     "evalue": "make_pizza() takes 1 positional argument but 3 were given",
     "output_type": "error",
     "traceback": [
      "\u001b[1;31m---------------------------------------------------------------------------\u001b[0m",
      "\u001b[1;31mTypeError\u001b[0m                                 Traceback (most recent call last)",
      "Cell \u001b[1;32mIn[20], line 1\u001b[0m\n\u001b[1;32m----> 1\u001b[0m make_pizza(\u001b[38;5;124m\"\u001b[39m\u001b[38;5;124molive\u001b[39m\u001b[38;5;124m\"\u001b[39m,\u001b[38;5;124m\"\u001b[39m\u001b[38;5;124mcorn\u001b[39m\u001b[38;5;124m\"\u001b[39m,\u001b[38;5;124m\"\u001b[39m\u001b[38;5;124monion\u001b[39m\u001b[38;5;124m\"\u001b[39m)\n",
      "\u001b[1;31mTypeError\u001b[0m: make_pizza() takes 1 positional argument but 3 were given"
     ]
    }
   ],
   "source": [
    "make_pizza(\"olive\",\"corn\",\"onion\")"
   ]
  },
  {
   "cell_type": "code",
   "execution_count": 21,
   "id": "9f2727fb-5133-422d-8a8c-d3690f6ac838",
   "metadata": {},
   "outputs": [
    {
     "name": "stdout",
     "output_type": "stream",
     "text": [
      "('olive', 'corn', 'onion')\n"
     ]
    }
   ],
   "source": [
    "def make_pizza(*toppings):  # Add * to accept number for arguments (called arbitry argumenst means we cant predict how many number of arguments are there  \n",
    "    \"\"\"print list if requested toppings\"\"\"\n",
    "    print(toppings)\n",
    "\n",
    "make_pizza(\"olive\",\"corn\",\"onion\")"
   ]
  },
  {
   "cell_type": "code",
   "execution_count": null,
   "id": "0b099ecc-50bd-4366-8040-3df51aae4d00",
   "metadata": {},
   "outputs": [],
   "source": [
    "# for loops in function"
   ]
  },
  {
   "cell_type": "code",
   "execution_count": 23,
   "id": "ed965eb6-a3c6-4af6-8ba6-d0ba3a9364b6",
   "metadata": {},
   "outputs": [
    {
     "name": "stdout",
     "output_type": "stream",
     "text": [
      "\n",
      " Making the pizza for below toppings: \n",
      " - title.olive\n",
      " - title.corn\n",
      " - title.onion\n"
     ]
    }
   ],
   "source": [
    "def make_pizza(*toppings):  # Add * to accept number for arguments (called arbitry argumenst means we cant predict how many number of arguments are there  \n",
    "    \"\"\"summarize the pizza that i want to make\"\"\"\n",
    "    print(\"\\n Making the pizza for below toppings: \")\n",
    "    for a in toppings:\n",
    "        print(f\" - {a}\")\n",
    "\n",
    "make_pizza(\"olive\",\"corn\",\"onion\")"
   ]
  },
  {
   "cell_type": "code",
   "execution_count": null,
   "id": "b623043e-ebb2-41a1-abe6-e26d66610149",
   "metadata": {},
   "outputs": [],
   "source": [
    "# Mixing positional and arbitrary argumenst"
   ]
  },
  {
   "cell_type": "code",
   "execution_count": 31,
   "id": "2dfb822c-e454-4ea3-9bb3-4ab67f0f54d4",
   "metadata": {},
   "outputs": [
    {
     "name": "stdout",
     "output_type": "stream",
     "text": [
      "\n",
      "Making a 12-inch pizza with the following toppings:\n",
      " - Olive\n",
      " - Corn\n",
      " - Onion\n",
      "\n",
      "Making a 16-inch pizza with the following toppings:\n",
      " - Pepperoni\n",
      " - Extra Cheese\n",
      " - Mushrooms\n",
      " - Green Peppers\n"
     ]
    }
   ],
   "source": [
    "def make_pizza(size, *toppings):\n",
    "    \"\"\"Summarize the pizza that I want to make with toppings in title case.\"\"\"\n",
    "    print(f\"\\nMaking a {size}-inch pizza with the following toppings:\")\n",
    "    for topping in toppings:\n",
    "        # Convert each topping to title case before printing\n",
    "        print(f\" - {topping.title()}\")\n",
    "\n",
    "# Example usage:\n",
    "make_pizza(12, \"olive\", \"corn\", \"onion\")\n",
    "make_pizza(16, \"pepperoni\", \"extra cheese\", \"mushrooms\", \"green peppers\")"
   ]
  },
  {
   "cell_type": "code",
   "execution_count": 30,
   "id": "15bd1c73-e252-4aa4-b9d5-4631eb9ceb52",
   "metadata": {},
   "outputs": [
    {
     "name": "stdout",
     "output_type": "stream",
     "text": [
      "Making a 12-inch pizza with the following toppings:\n",
      " - Olive\n",
      " - Corn\n",
      " - Onion\n",
      "\n",
      "--- Another Pizza Order ---\n",
      "Making a 16-inch pizza with the following toppings:\n",
      " - Pepperoni\n",
      " - Extra Cheese\n",
      " - Mushrooms\n",
      " - Green Peppers\n"
     ]
    }
   ],
   "source": [
    "def make_pizza(size, *toppings):\n",
    "    \"\"\"\n",
    "    Summarize the pizza to be made, with toppings in title case,\n",
    "    and return the summary as a string.\n",
    "    \"\"\"\n",
    "    # Start building the summary string\n",
    "    summary_lines = []\n",
    "    summary_lines.append(f\"Making a {size}-inch pizza with the following toppings:\")\n",
    "\n",
    "    # Add each topping to the summary, converting to title case\n",
    "    for topping in toppings:\n",
    "        summary_lines.append(f\" - {topping.title()}\")\n",
    "\n",
    "    # Join all summary lines into a single string, separated by newlines\n",
    "    return \"\\n\".join(summary_lines)\n",
    "\n",
    "# Example usage:\n",
    "# Call the function and store the returned string in a variable\n",
    "pizza_summary = make_pizza(12, \"olive\", \"corn\", \"onion\")\n",
    "\n",
    "# Print the summary\n",
    "print(pizza_summary)\n",
    "\n",
    "print(\"\\n--- Another Pizza Order ---\")\n",
    "pizza_summary_2 = make_pizza(16, \"pepperoni\", \"extra cheese\", \"mushrooms\", \"green peppers\")\n",
    "print(pizza_summary_2)"
   ]
  },
  {
   "cell_type": "code",
   "execution_count": null,
   "id": "fe4ebdf3-cf5f-4d1b-8a06-cc2d8bf51a8e",
   "metadata": {},
   "outputs": [],
   "source": []
  }
 ],
 "metadata": {
  "kernelspec": {
   "display_name": "Python [conda env:base] *",
   "language": "python",
   "name": "conda-base-py"
  },
  "language_info": {
   "codemirror_mode": {
    "name": "ipython",
    "version": 3
   },
   "file_extension": ".py",
   "mimetype": "text/x-python",
   "name": "python",
   "nbconvert_exporter": "python",
   "pygments_lexer": "ipython3",
   "version": "3.13.5"
  }
 },
 "nbformat": 4,
 "nbformat_minor": 5
}

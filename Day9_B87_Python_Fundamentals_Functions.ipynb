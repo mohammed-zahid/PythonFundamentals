{
 "cells": [
  {
   "cell_type": "code",
   "execution_count": 1,
   "id": "0ffaeb26-4ef3-40eb-9e8c-07bff6e0ff47",
   "metadata": {},
   "outputs": [],
   "source": [
    "# Introduction to Python functions\n",
    "# How to define a function: def\n",
    "# use samll case letter for giving function name"
   ]
  },
  {
   "cell_type": "code",
   "execution_count": 2,
   "id": "c057cd5d-6511-4024-bc84-10a915061b9d",
   "metadata": {},
   "outputs": [],
   "source": [
    "def greet(): # defining the function\n",
    "    \"\"\" this function will greet the user\"\"\" # doc string\n",
    "    print(\"Hello \")"
   ]
  },
  {
   "cell_type": "code",
   "execution_count": 4,
   "id": "8c4c9ded-7c0c-45eb-b686-d07e010a2d11",
   "metadata": {},
   "outputs": [
    {
     "name": "stdout",
     "output_type": "stream",
     "text": [
      "Hello \n"
     ]
    }
   ],
   "source": [
    "greet() # function calls"
   ]
  },
  {
   "cell_type": "code",
   "execution_count": 6,
   "id": "b8410d81-4568-4bd7-a590-d27c0b9a6078",
   "metadata": {},
   "outputs": [
    {
     "name": "stdout",
     "output_type": "stream",
     "text": [
      "Hello \n"
     ]
    }
   ],
   "source": [
    "def greet_user(): # defining the function\n",
    "    \"\"\" this function will greet the specific user\"\"\" # doc string\n",
    "    print(\"Hello \")\n",
    "greet_user() # function calls"
   ]
  },
  {
   "cell_type": "code",
   "execution_count": 11,
   "id": "55b01b5b-3f7e-413c-95f3-3b698016a7ea",
   "metadata": {},
   "outputs": [
    {
     "name": "stdout",
     "output_type": "stream",
     "text": [
      "Hello Zahid\n"
     ]
    }
   ],
   "source": [
    "def greet_user(username): # defining the function\n",
    "    \"\"\" this function will greet the specific user\"\"\" # doc string\n",
    "    print(f\"Hello {username.title()}\")\n",
    "greet_user('zahid') # function calls passing an argument"
   ]
  },
  {
   "cell_type": "code",
   "execution_count": 12,
   "id": "e4b1818f-7bcb-47c0-8e40-9c7ddec57f85",
   "metadata": {},
   "outputs": [],
   "source": [
    "# Types of n arguments: 3 Types:\n",
    "# 1. positional arguments\n",
    "# 2. Keyword arguments\n",
    "# 3. Arbitrary arguments"
   ]
  },
  {
   "cell_type": "code",
   "execution_count": null,
   "id": "d0722d6b-72cd-46a3-a13e-600d324ad120",
   "metadata": {},
   "outputs": [],
   "source": [
    "# req : define a function with name describe_pet which takes tw0 parametres\n",
    "# 1. pet_name\n",
    "# 2. animal_type"
   ]
  },
  {
   "cell_type": "code",
   "execution_count": 22,
   "id": "f10f2d44-f942-4cea-8c6f-b34f7c28a8df",
   "metadata": {},
   "outputs": [],
   "source": [
    "def describe_pet(animal_type, pet_name):\n",
    "    print(f\"I have a {animal_type}\")\n",
    "    print(f\"My {animal_type}'s name is {pet_name} \")"
   ]
  },
  {
   "cell_type": "code",
   "execution_count": 23,
   "id": "39d80b23-0980-41cf-b86b-ccbb19d17fcf",
   "metadata": {},
   "outputs": [
    {
     "name": "stdout",
     "output_type": "stream",
     "text": [
      "I have a cat\n",
      "My cat's name is sweetee \n"
     ]
    }
   ],
   "source": [
    "describe_pet('cat', 'sweetee')"
   ]
  },
  {
   "cell_type": "code",
   "execution_count": 24,
   "id": "4711a186-88bd-49b3-baf9-aca552dca914",
   "metadata": {},
   "outputs": [
    {
     "name": "stdout",
     "output_type": "stream",
     "text": [
      "I have a parrot\n",
      "My parrot's name is Rex \n"
     ]
    }
   ],
   "source": [
    "describe_pet('parrot', 'Rex') # Conditional arguments"
   ]
  },
  {
   "cell_type": "code",
   "execution_count": 25,
   "id": "d5ef4c07-c242-414c-9220-848b0e73a07d",
   "metadata": {},
   "outputs": [
    {
     "name": "stdout",
     "output_type": "stream",
     "text": [
      "I have a parrot\n",
      "My parrot's name is Rex \n"
     ]
    }
   ],
   "source": [
    "describe_pet(animal_type = 'parrot', pet_name = 'Rex') # Keyword arguments"
   ]
  },
  {
   "cell_type": "code",
   "execution_count": null,
   "id": "5ea92162-7c5b-4523-aa2a-4bf117f70247",
   "metadata": {},
   "outputs": [],
   "source": []
  }
 ],
 "metadata": {
  "kernelspec": {
   "display_name": "Python [conda env:base] *",
   "language": "python",
   "name": "conda-base-py"
  },
  "language_info": {
   "codemirror_mode": {
    "name": "ipython",
    "version": 3
   },
   "file_extension": ".py",
   "mimetype": "text/x-python",
   "name": "python",
   "nbconvert_exporter": "python",
   "pygments_lexer": "ipython3",
   "version": "3.13.5"
  }
 },
 "nbformat": 4,
 "nbformat_minor": 5
}

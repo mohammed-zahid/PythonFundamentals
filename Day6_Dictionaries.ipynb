{
 "cells": [
  {
   "cell_type": "code",
   "execution_count": 1,
   "id": "7c713a4b-f1be-4afa-813b-96f4720bfdf1",
   "metadata": {},
   "outputs": [],
   "source": [
    "#Introduction to Dictiories "
   ]
  },
  {
   "cell_type": "code",
   "execution_count": 2,
   "id": "bd2d55d5-f37d-4385-bfb8-526159283dd1",
   "metadata": {},
   "outputs": [],
   "source": [
    "# Defination : A dictionary is a combination of key, value pairs.\n",
    "# classification :\n",
    "# It is classified as a mutable datatype\n",
    "# how to define the dictionary : { ) # curly brockets / Flower brackets\n",
    "# req : I want to design a alien game."
   ]
  },
  {
   "cell_type": "code",
   "execution_count": 3,
   "id": "3da51b92-e92a-49d3-b704-d16e1d1d6945",
   "metadata": {},
   "outputs": [
    {
     "name": "stdout",
     "output_type": "stream",
     "text": [
      "{'color': 'green', 'points': 5}\n"
     ]
    }
   ],
   "source": [
    "alien = {'color' : 'green' , 'points' : 5}\n",
    "print(alien)"
   ]
  },
  {
   "cell_type": "code",
   "execution_count": 4,
   "id": "c40c5946-6875-46f3-9477-b869cf84e3d0",
   "metadata": {},
   "outputs": [
    {
     "data": {
      "text/plain": [
       "dict"
      ]
     },
     "execution_count": 4,
     "metadata": {},
     "output_type": "execute_result"
    }
   ],
   "source": [
    "type(alien)"
   ]
  },
  {
   "cell_type": "code",
   "execution_count": 6,
   "id": "d1c15d8d-4557-4642-9d1d-6e2e4e50f740",
   "metadata": {},
   "outputs": [
    {
     "name": "stdout",
     "output_type": "stream",
     "text": [
      "{'color': 'green', 'points': 5, 'start_position': 'level'}\n"
     ]
    }
   ],
   "source": [
    "# dictionary -is written as dict\n",
    "# req ; i want to add the start_position of the alien\n",
    "alien[\"start_position\"] = \"level\"\n",
    "print (alien)"
   ]
  },
  {
   "cell_type": "code",
   "execution_count": 8,
   "id": "a64fec5f-571c-47a2-ab75-2c7787e5ce60",
   "metadata": {},
   "outputs": [],
   "source": [
    "# Req: I want to know cloor of alien"
   ]
  },
  {
   "cell_type": "code",
   "execution_count": 11,
   "id": "43c9b960-c60d-4d3c-8036-0a6c52af8ea4",
   "metadata": {},
   "outputs": [
    {
     "name": "stdout",
     "output_type": "stream",
     "text": [
      "green\n"
     ]
    }
   ],
   "source": [
    "print(alien[\"color\"])"
   ]
  },
  {
   "cell_type": "code",
   "execution_count": 12,
   "id": "59849c4d-f48b-4ba0-9751-7f01d898b87f",
   "metadata": {},
   "outputs": [],
   "source": [
    "# Req: how to modify the key value pairs in dict"
   ]
  },
  {
   "cell_type": "code",
   "execution_count": 13,
   "id": "460816a3-9f67-4340-b6d8-c30132a17579",
   "metadata": {},
   "outputs": [],
   "source": [
    "# I want to update color from green to red"
   ]
  },
  {
   "cell_type": "code",
   "execution_count": 14,
   "id": "ba487509-8295-4bf9-ac26-e5f9500c9e16",
   "metadata": {},
   "outputs": [],
   "source": [
    "alien['color'] = \"Red\""
   ]
  },
  {
   "cell_type": "code",
   "execution_count": 15,
   "id": "f3877063-e4ff-4c3d-8955-05558188d19e",
   "metadata": {},
   "outputs": [
    {
     "name": "stdout",
     "output_type": "stream",
     "text": [
      "{'color': 'Red', 'points': 5, 'start_position': 'level'}\n"
     ]
    }
   ],
   "source": [
    "print(alien)"
   ]
  },
  {
   "cell_type": "code",
   "execution_count": 16,
   "id": "27ea3c17-4d92-4c25-bf7a-727cd70276a9",
   "metadata": {},
   "outputs": [],
   "source": [
    "# create facebook user account"
   ]
  },
  {
   "cell_type": "code",
   "execution_count": 18,
   "id": "506f3cdc-d30f-4f80-a171-6a099576f5f7",
   "metadata": {},
   "outputs": [],
   "source": [
    "user_account = {'firstname':'code', 'lastname' : 'training' , 'username' : 'codetrainingAcademy' , 'dob' : '01-01-2020', 'pwd' : '54321' }"
   ]
  },
  {
   "cell_type": "code",
   "execution_count": 19,
   "id": "ec5d6373-3fba-426e-85b2-f7094f6e2fbd",
   "metadata": {},
   "outputs": [
    {
     "name": "stdout",
     "output_type": "stream",
     "text": [
      "{'firstname': 'code', 'lastname': 'training', 'username': 'codetrainingAcademy', 'dob': '01-01-2020', 'pwd': '54321'}\n"
     ]
    }
   ],
   "source": [
    "print(user_account)"
   ]
  },
  {
   "cell_type": "code",
   "execution_count": 21,
   "id": "9326d237-58cc-417f-b0c0-aa62619fa098",
   "metadata": {},
   "outputs": [],
   "source": [
    "del user_account['lastname']"
   ]
  },
  {
   "cell_type": "code",
   "execution_count": 22,
   "id": "99eab24e-1da8-42a5-b863-2b532163ffb4",
   "metadata": {},
   "outputs": [
    {
     "name": "stdout",
     "output_type": "stream",
     "text": [
      "{'firstname': 'code', 'username': 'codetrainingAcademy', 'dob': '01-01-2020', 'pwd': '54321'}\n"
     ]
    }
   ],
   "source": [
    "print(user_account)\n"
   ]
  },
  {
   "cell_type": "code",
   "execution_count": 23,
   "id": "9cd61589-af73-4faa-950d-585245869632",
   "metadata": {},
   "outputs": [],
   "source": [
    "# Introduction to looping \n"
   ]
  },
  {
   "cell_type": "code",
   "execution_count": 40,
   "id": "2ee2af5f-809b-409e-aec9-b6b90a382a9b",
   "metadata": {},
   "outputs": [],
   "source": [
    "students = [ 'durga', 'dinesh' , 'kavya' , 'noor' , 'raza' , 'abid','joseph']"
   ]
  },
  {
   "cell_type": "code",
   "execution_count": 31,
   "id": "06d7779b-e113-46b1-89b6-a1d29e261138",
   "metadata": {},
   "outputs": [
    {
     "name": "stdout",
     "output_type": "stream",
     "text": [
      "Keep up the good work,Dinesh\n"
     ]
    }
   ],
   "source": [
    "print(f\"Keep up the good work,{(students[1].title())}\")"
   ]
  },
  {
   "cell_type": "code",
   "execution_count": 38,
   "id": "7df0a6be-fe72-42ee-8407-68befccaddb2",
   "metadata": {},
   "outputs": [
    {
     "name": "stdout",
     "output_type": "stream",
     "text": [
      "keep up the good work,Durga\n",
      "keep up the good work,Dinesh\n",
      "keep up the good work, Kavya\n",
      "keep up the good work,Noor\n",
      "keep up the good work,Raza\n",
      "keep up the good work,Abid\n",
      "keep up the good work,Joseph\n"
     ]
    }
   ],
   "source": [
    "# introduction to for loop .\n",
    "# Genra[ syntax of for Coop .\n",
    "#for tempvar in mainvar:\n",
    "# print(tempvar)\n",
    "for x in students:\n",
    "    print(f\"keep up the good work,{x.title()}\")"
   ]
  },
  {
   "cell_type": "code",
   "execution_count": 41,
   "id": "9929a2fa-78ed-4b7f-bcb6-918cee5aef91",
   "metadata": {},
   "outputs": [
    {
     "name": "stdout",
     "output_type": "stream",
     "text": [
      "durga\n",
      "dinesh\n",
      "kavya\n",
      "noor\n",
      "raza\n",
      "abid\n",
      "joseph\n"
     ]
    }
   ],
   "source": [
    "for a in students:\n",
    "    print(a)"
   ]
  },
  {
   "cell_type": "code",
   "execution_count": 43,
   "id": "39b9da81-4878-42f9-898d-13472afb0200",
   "metadata": {},
   "outputs": [],
   "source": [
    "#Indentation, starting of print and after for loop there is a gap"
   ]
  },
  {
   "cell_type": "code",
   "execution_count": null,
   "id": "0683825b-084b-4e21-a57f-09ece60c235d",
   "metadata": {},
   "outputs": [],
   "source": []
  }
 ],
 "metadata": {
  "kernelspec": {
   "display_name": "Python [conda env:base] *",
   "language": "python",
   "name": "conda-base-py"
  },
  "language_info": {
   "codemirror_mode": {
    "name": "ipython",
    "version": 3
   },
   "file_extension": ".py",
   "mimetype": "text/x-python",
   "name": "python",
   "nbconvert_exporter": "python",
   "pygments_lexer": "ipython3",
   "version": "3.13.5"
  }
 },
 "nbformat": 4,
 "nbformat_minor": 5
}

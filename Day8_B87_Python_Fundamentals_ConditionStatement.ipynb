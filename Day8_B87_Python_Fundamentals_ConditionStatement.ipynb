{
 "cells": [
  {
   "cell_type": "code",
   "execution_count": 1,
   "id": "38393529-6b1c-4c4c-8ce9-fe94fc719881",
   "metadata": {},
   "outputs": [],
   "source": [
    "#Introduction to condition statement\n",
    "# if statement"
   ]
  },
  {
   "cell_type": "code",
   "execution_count": 12,
   "id": "5e75e774-0d6b-4d65-bf50-278a2ced84ed",
   "metadata": {},
   "outputs": [
    {
     "name": "stdout",
     "output_type": "stream",
     "text": [
      "['hundai', 'bmw', 'hundai', 'toyota', 'kia', 'suzuki', 'maruthi']\n"
     ]
    }
   ],
   "source": [
    "cars = ['hundai','bmw','hundai','toyota', 'kia','suzuki','maruthi']\n",
    "print(cars)"
   ]
  },
  {
   "cell_type": "code",
   "execution_count": 13,
   "id": "ede5a14f-3fce-4d18-b661-0c438420cd5f",
   "metadata": {},
   "outputs": [
    {
     "data": {
      "text/plain": [
       "list"
      ]
     },
     "execution_count": 13,
     "metadata": {},
     "output_type": "execute_result"
    }
   ],
   "source": [
    "type(cars)"
   ]
  },
  {
   "cell_type": "code",
   "execution_count": 14,
   "id": "9b14cfd4-ff29-48e4-91dc-caa1fadf18e5",
   "metadata": {},
   "outputs": [
    {
     "name": "stdout",
     "output_type": "stream",
     "text": [
      "Hundai\n",
      "Bmw\n",
      "Hundai\n",
      "Toyota\n",
      "Kia\n",
      "SUZUKI\n",
      "Maruthi\n"
     ]
    }
   ],
   "source": [
    "for a in cars:\n",
    "    if a == 'suzuki':\n",
    "        print(a.upper())\n",
    "    else:\n",
    "        print(a.title())\n"
   ]
  },
  {
   "cell_type": "code",
   "execution_count": 16,
   "id": "240c14a1-e3eb-4fae-8545-573fe21bb75f",
   "metadata": {},
   "outputs": [],
   "source": [
    "# Req: Building an Voting application\n",
    "# Age > 18\n"
   ]
  },
  {
   "cell_type": "code",
   "execution_count": 21,
   "id": "6c8ba5f2-93ac-45a0-8792-b147ab6ed366",
   "metadata": {},
   "outputs": [
    {
     "name": "stdout",
     "output_type": "stream",
     "text": [
      "You are not eligible, Try nect year\n"
     ]
    }
   ],
   "source": [
    "age = 17\n",
    "if age>=18:\n",
    "    print(\"you are eligible for Vote\")\n",
    "else:\n",
    "    print (\"You are not eligible, Try next year\")"
   ]
  },
  {
   "cell_type": "code",
   "execution_count": null,
   "id": "72ea3a29-58aa-4d07-9a9f-3a25ee160819",
   "metadata": {},
   "outputs": [],
   "source": [
    "# Understanding of concept of user input"
   ]
  },
  {
   "cell_type": "code",
   "execution_count": 25,
   "id": "6ac3bf48-5ff1-4bf3-837a-f1aa5a690a20",
   "metadata": {},
   "outputs": [
    {
     "name": "stdin",
     "output_type": "stream",
     "text": [
      "Please enter the age of viter applicant :  a\n"
     ]
    }
   ],
   "source": [
    "age = input(\"Please enter the age of viter applicant : \")"
   ]
  },
  {
   "cell_type": "code",
   "execution_count": 27,
   "id": "443153b9-a6bc-449e-9152-5f35d4f693fd",
   "metadata": {},
   "outputs": [
    {
     "name": "stdin",
     "output_type": "stream",
     "text": [
      "Enter text, i will repeat for you :  1\n"
     ]
    },
    {
     "name": "stdout",
     "output_type": "stream",
     "text": [
      "1\n"
     ]
    }
   ],
   "source": [
    "a = input(\"Enter text, i will repeat for you : \")\n",
    "print(a)"
   ]
  },
  {
   "cell_type": "code",
   "execution_count": 30,
   "id": "78d11266-2256-4de1-9f88-69cb12f74cb7",
   "metadata": {},
   "outputs": [
    {
     "name": "stdin",
     "output_type": "stream",
     "text": [
      "Please enter your name :  1213\n"
     ]
    },
    {
     "name": "stdout",
     "output_type": "stream",
     "text": [
      "\n",
      " Hello, 1213\n"
     ]
    }
   ],
   "source": [
    "# I want to greet person based on input\n",
    "name = input(\"Please enter your name : \")\n",
    "print(f\"\\n Hello, {name}\")"
   ]
  },
  {
   "cell_type": "code",
   "execution_count": 31,
   "id": "ab21ad66-881d-43fe-bf6b-7be4953eb294",
   "metadata": {},
   "outputs": [
    {
     "data": {
      "text/plain": [
       "str"
      ]
     },
     "execution_count": 31,
     "metadata": {},
     "output_type": "execute_result"
    }
   ],
   "source": [
    "type(name)"
   ]
  },
  {
   "cell_type": "code",
   "execution_count": 33,
   "id": "e8c8676a-8f12-439e-b927-054d2590fd40",
   "metadata": {},
   "outputs": [
    {
     "name": "stdin",
     "output_type": "stream",
     "text": [
      "Please enter the age of voter applicant (How old are you) :  12\n"
     ]
    },
    {
     "name": "stdout",
     "output_type": "stream",
     "text": [
      "You are not eligible, Try next year\n"
     ]
    }
   ],
   "source": [
    "age = input(\"Please enter the age of voter applicant (How old are you) : \")\n",
    "age = int(age)\n",
    "if age>=18:\n",
    "    print(\"you are eligible for Vote\")\n",
    "else:\n",
    "    print (\"You are not eligible, Try next year\")\n",
    "    "
   ]
  },
  {
   "cell_type": "code",
   "execution_count": 34,
   "id": "2e48fd27-e160-47e6-ab7e-788e8eee5a4f",
   "metadata": {},
   "outputs": [
    {
     "name": "stdin",
     "output_type": "stream",
     "text": [
      "Please enter the age of voter applicant (How old are you) :  12\n"
     ]
    }
   ],
   "source": [
    "age = int (input(\"Please enter the age of voter applicant (How old are you) : \"))\n"
   ]
  },
  {
   "cell_type": "code",
   "execution_count": 35,
   "id": "e41a4053-62ef-4a7c-b16a-fa5d583d7511",
   "metadata": {},
   "outputs": [
    {
     "data": {
      "text/plain": [
       "int"
      ]
     },
     "execution_count": 35,
     "metadata": {},
     "output_type": "execute_result"
    }
   ],
   "source": [
    "type(age)"
   ]
  },
  {
   "cell_type": "code",
   "execution_count": 38,
   "id": "bed3c2f3-656d-49b9-91d8-69538a358a87",
   "metadata": {},
   "outputs": [
    {
     "name": "stdin",
     "output_type": "stream",
     "text": [
      "Please enter any number, i will tell you its even or odd:  11\n"
     ]
    },
    {
     "name": "stdout",
     "output_type": "stream",
     "text": [
      "\n",
      " The entered number 11 is odd\n"
     ]
    }
   ],
   "source": [
    "# if given number by use, find whether its even or odd\n",
    "number  = int(input(\"Please enter any number, i will tell you its even or odd: \"))\n",
    "if number%2 == 0:\n",
    "              print(f\"\\n The entered number {number} is even\")\n",
    "else:\n",
    "              print(f\"\\n The entered number {number} is odd\")\n",
    "              "
   ]
  },
  {
   "cell_type": "code",
   "execution_count": null,
   "id": "6e8e5e6a-b174-49be-a038-a0bad510a9be",
   "metadata": {},
   "outputs": [],
   "source": []
  }
 ],
 "metadata": {
  "kernelspec": {
   "display_name": "Python [conda env:base] *",
   "language": "python",
   "name": "conda-base-py"
  },
  "language_info": {
   "codemirror_mode": {
    "name": "ipython",
    "version": 3
   },
   "file_extension": ".py",
   "mimetype": "text/x-python",
   "name": "python",
   "nbconvert_exporter": "python",
   "pygments_lexer": "ipython3",
   "version": "3.13.5"
  }
 },
 "nbformat": 4,
 "nbformat_minor": 5
}

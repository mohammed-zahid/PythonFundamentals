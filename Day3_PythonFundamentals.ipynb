{
 "cells": [
  {
   "cell_type": "code",
   "execution_count": null,
   "id": "472fd021-b906-4fd6-8342-9bcecaa82e7a",
   "metadata": {},
   "outputs": [],
   "source": [
    "continuation with string datatype :\n",
    "introduction to f strings *"
   ]
  },
  {
   "cell_type": "code",
   "execution_count": 1,
   "id": "73d2ae08-19ed-4bd5-a934-ddcdaad4831c",
   "metadata": {},
   "outputs": [],
   "source": [
    "firstname = \"Md\"\n",
    "secondname = \"Zahid\""
   ]
  },
  {
   "cell_type": "code",
   "execution_count": 2,
   "id": "0c9ec777-832a-4110-889f-70f14606d3ee",
   "metadata": {},
   "outputs": [
    {
     "name": "stdout",
     "output_type": "stream",
     "text": [
      "Md Zahid\n"
     ]
    }
   ],
   "source": [
    "fullname = f\"{firstname} {secondname}\"\n",
    "print(fullname)"
   ]
  },
  {
   "cell_type": "code",
   "execution_count": 6,
   "id": "eb0cac4d-30b3-4264-b86c-0d5949db6bbb",
   "metadata": {},
   "outputs": [
    {
     "name": "stdout",
     "output_type": "stream",
     "text": [
      "Keep up the good work, Md Zahid\n"
     ]
    }
   ],
   "source": [
    "message = f\"Keep up the good work, {fullname.title()}\"\n",
    "print(message)"
   ]
  },
  {
   "cell_type": "markdown",
   "id": "1fb584c4-155b-4637-8fdd-f57de1ca7427",
   "metadata": {},
   "source": [
    "print( \"favouri te_language : \\ nPyt hon ++\\nswift \\ n j avascri pt \" )"
   ]
  },
  {
   "cell_type": "code",
   "execution_count": 7,
   "id": "2a7972f4-5c17-4afe-8a6a-246b6b5804ec",
   "metadata": {},
   "outputs": [
    {
     "name": "stdout",
     "output_type": "stream",
     "text": [
      "favourite_language:\n",
      " Python++\n",
      " swift\n",
      " javascri pt \n"
     ]
    }
   ],
   "source": [
    "print(\"favourite_language:\\n Python++\\n swift\\n javascri pt \" )"
   ]
  },
  {
   "cell_type": "code",
   "execution_count": 10,
   "id": "784c574b-27fc-442d-b3e0-518615e7d6d5",
   "metadata": {},
   "outputs": [
    {
     "name": "stdout",
     "output_type": "stream",
     "text": [
      "Python \n"
     ]
    }
   ],
   "source": [
    "name1 = \" Python \"\n",
    "print(name1.lstrip())"
   ]
  },
  {
   "cell_type": "code",
   "execution_count": 11,
   "id": "71f3dd46-5f03-4fb2-9840-e574887e492d",
   "metadata": {},
   "outputs": [
    {
     "name": "stdout",
     "output_type": "stream",
     "text": [
      " Python\n"
     ]
    }
   ],
   "source": [
    "name2 = \" Python \"\n",
    "print(name1.rstrip())"
   ]
  },
  {
   "cell_type": "code",
   "execution_count": 12,
   "id": "1f73712e-e9f7-43e5-9e1a-63bb18368d90",
   "metadata": {},
   "outputs": [
    {
     "name": "stdout",
     "output_type": "stream",
     "text": [
      "Python\n"
     ]
    }
   ],
   "source": [
    "name3 = \" Python \"\n",
    "print(name1.strip())"
   ]
  },
  {
   "cell_type": "code",
   "execution_count": 13,
   "id": "a3d7383a-7d52-47d4-9615-ef3b600bc06c",
   "metadata": {},
   "outputs": [
    {
     "name": "stdout",
     "output_type": "stream",
     "text": [
      "The Zen of Python, by Tim Peters\n",
      "\n",
      "Beautiful is better than ugly.\n",
      "Explicit is better than implicit.\n",
      "Simple is better than complex.\n",
      "Complex is better than complicated.\n",
      "Flat is better than nested.\n",
      "Sparse is better than dense.\n",
      "Readability counts.\n",
      "Special cases aren't special enough to break the rules.\n",
      "Although practicality beats purity.\n",
      "Errors should never pass silently.\n",
      "Unless explicitly silenced.\n",
      "In the face of ambiguity, refuse the temptation to guess.\n",
      "There should be one-- and preferably only one --obvious way to do it.\n",
      "Although that way may not be obvious at first unless you're Dutch.\n",
      "Now is better than never.\n",
      "Although never is often better than *right* now.\n",
      "If the implementation is hard to explain, it's a bad idea.\n",
      "If the implementation is easy to explain, it may be a good idea.\n",
      "Namespaces are one honking great idea -- let's do more of those!\n"
     ]
    }
   ],
   "source": [
    "import this"
   ]
  },
  {
   "cell_type": "code",
   "execution_count": null,
   "id": "44a89b0f-5783-4d8f-994d-964e56175351",
   "metadata": {},
   "outputs": [],
   "source": []
  }
 ],
 "metadata": {
  "kernelspec": {
   "display_name": "Python [conda env:base] *",
   "language": "python",
   "name": "conda-base-py"
  },
  "language_info": {
   "codemirror_mode": {
    "name": "ipython",
    "version": 3
   },
   "file_extension": ".py",
   "mimetype": "text/x-python",
   "name": "python",
   "nbconvert_exporter": "python",
   "pygments_lexer": "ipython3",
   "version": "3.13.5"
  }
 },
 "nbformat": 4,
 "nbformat_minor": 5
}

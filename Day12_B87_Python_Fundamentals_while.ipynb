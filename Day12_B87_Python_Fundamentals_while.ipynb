{
 "cells": [
  {
   "cell_type": "code",
   "execution_count": null,
   "id": "43e03f60-25db-42c8-b794-a84a7c5c2169",
   "metadata": {},
   "outputs": [],
   "source": [
    "# introduction to while loop\n",
    "# execute block of statements repetedly until condition is satisfied "
   ]
  },
  {
   "cell_type": "code",
   "execution_count": 5,
   "id": "5a67c437-0112-46b1-8d88-34356d62392e",
   "metadata": {},
   "outputs": [
    {
     "name": "stdout",
     "output_type": "stream",
     "text": [
      "Hello world\n",
      "1\n",
      "Hello world\n",
      "2\n",
      "Hello world\n",
      "3\n"
     ]
    }
   ],
   "source": [
    "count = 0\n",
    "while (count<3):\n",
    "    count = count +1  # logical implimentation \n",
    "    print(\"Hello world\")\n",
    "    print(count)"
   ]
  },
  {
   "cell_type": "code",
   "execution_count": null,
   "id": "2c3378c7-5024-4fd5-bab2-da061fc8fdb6",
   "metadata": {},
   "outputs": [],
   "source": []
  }
 ],
 "metadata": {
  "kernelspec": {
   "display_name": "Python [conda env:base] *",
   "language": "python",
   "name": "conda-base-py"
  },
  "language_info": {
   "codemirror_mode": {
    "name": "ipython",
    "version": 3
   },
   "file_extension": ".py",
   "mimetype": "text/x-python",
   "name": "python",
   "nbconvert_exporter": "python",
   "pygments_lexer": "ipython3",
   "version": "3.13.5"
  }
 },
 "nbformat": 4,
 "nbformat_minor": 5
}

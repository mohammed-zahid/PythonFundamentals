{
 "cells": [
  {
   "cell_type": "code",
   "execution_count": 31,
   "id": "f6667334-073b-45d6-84cf-b3d085497d2e",
   "metadata": {},
   "outputs": [],
   "source": [
    "# Introduction to List"
   ]
  },
  {
   "cell_type": "code",
   "execution_count": 4,
   "id": "149c5a5e-a03f-440e-966f-afda3d381ce0",
   "metadata": {},
   "outputs": [],
   "source": [
    "# Introduction to list indexing"
   ]
  },
  {
   "cell_type": "code",
   "execution_count": 31,
   "id": "f24a0ca2-9605-4c97-953b-28965364aed7",
   "metadata": {},
   "outputs": [],
   "source": [
    "student= ['zahid', 'asm', 'zaki', 'test']"
   ]
  },
  {
   "cell_type": "code",
   "execution_count": 5,
   "id": "bbd96252-4c4c-4d28-86fa-54f1fc12a47d",
   "metadata": {},
   "outputs": [
    {
     "name": "stdout",
     "output_type": "stream",
     "text": [
      "['zahid', 'asm', 'zaki', 'test']\n"
     ]
    }
   ],
   "source": [
    "print(student)"
   ]
  },
  {
   "cell_type": "code",
   "execution_count": 6,
   "id": "86500788-0fa0-413c-860d-b6498ab4f497",
   "metadata": {},
   "outputs": [
    {
     "data": {
      "text/plain": [
       "list"
      ]
     },
     "execution_count": 6,
     "metadata": {},
     "output_type": "execute_result"
    }
   ],
   "source": [
    "type(student)"
   ]
  },
  {
   "cell_type": "code",
   "execution_count": 8,
   "id": "c5443974-b5b4-4033-9703-6ee2f80cfdc8",
   "metadata": {},
   "outputs": [
    {
     "name": "stdout",
     "output_type": "stream",
     "text": [
      "asm\n"
     ]
    }
   ],
   "source": [
    "print(student[1])"
   ]
  },
  {
   "cell_type": "code",
   "execution_count": 10,
   "id": "11967ad6-4dca-4156-9b47-7126f7c1af3a",
   "metadata": {},
   "outputs": [
    {
     "name": "stdout",
     "output_type": "stream",
     "text": [
      "Asm\n"
     ]
    }
   ],
   "source": [
    "print(student[1].title())"
   ]
  },
  {
   "cell_type": "code",
   "execution_count": 11,
   "id": "555f53bc-703a-48ae-87fe-ef8cd6df9cef",
   "metadata": {},
   "outputs": [
    {
     "name": "stdout",
     "output_type": "stream",
     "text": [
      "test\n"
     ]
    }
   ],
   "source": [
    "print(student[3])"
   ]
  },
  {
   "cell_type": "code",
   "execution_count": 13,
   "id": "a111e732-48c5-442c-b5e2-84fdc0ce2a6a",
   "metadata": {},
   "outputs": [],
   "source": [
    "student.append('Shafi')"
   ]
  },
  {
   "cell_type": "code",
   "execution_count": 14,
   "id": "a1f4b32e-76ce-4e05-9878-dca72b2f0638",
   "metadata": {},
   "outputs": [
    {
     "name": "stdout",
     "output_type": "stream",
     "text": [
      "['zahid', 'asm', 'zaki', 'test', 'Shafi']\n"
     ]
    }
   ],
   "source": [
    "print(student)"
   ]
  },
  {
   "cell_type": "code",
   "execution_count": 15,
   "id": "46ccef8b-7a13-49c5-9b4c-694dc8941116",
   "metadata": {},
   "outputs": [],
   "source": [
    "student.append('Venkat')"
   ]
  },
  {
   "cell_type": "code",
   "execution_count": 16,
   "id": "72bccd43-acb8-498a-8e2a-349d65402233",
   "metadata": {},
   "outputs": [
    {
     "name": "stdout",
     "output_type": "stream",
     "text": [
      "['zahid', 'asm', 'zaki', 'test', 'Shafi', 'Venkat']\n"
     ]
    }
   ],
   "source": [
    "print(student)\n"
   ]
  },
  {
   "cell_type": "code",
   "execution_count": 17,
   "id": "263f728a-8f2a-4f78-9b16-067be01913ba",
   "metadata": {},
   "outputs": [],
   "source": [
    "# add kaleem at second index position"
   ]
  },
  {
   "cell_type": "code",
   "execution_count": 19,
   "id": "de79365d-c3a8-4cfc-9c75-785a181fc636",
   "metadata": {},
   "outputs": [],
   "source": [
    "student.insert(2,'Kaleem')"
   ]
  },
  {
   "cell_type": "code",
   "execution_count": 20,
   "id": "06d883c7-8783-427f-b8f5-4a59c9256c9a",
   "metadata": {},
   "outputs": [
    {
     "name": "stdout",
     "output_type": "stream",
     "text": [
      "['zahid', 'asm', 'Kaleem', 'zaki', 'test', 'Shafi', 'Venkat']\n"
     ]
    }
   ],
   "source": [
    "print(student)"
   ]
  },
  {
   "cell_type": "code",
   "execution_count": 21,
   "id": "be2834fc-bc18-4ad6-a267-fef0d60cb08c",
   "metadata": {},
   "outputs": [],
   "source": [
    "#How to modify list"
   ]
  },
  {
   "cell_type": "code",
   "execution_count": 22,
   "id": "47398eb3-69f7-40f1-8c55-a2268c33d413",
   "metadata": {},
   "outputs": [],
   "source": [
    "# Modify Zahid to Mohammed "
   ]
  },
  {
   "cell_type": "code",
   "execution_count": 25,
   "id": "b2604f2f-c7e7-4774-a82c-45f2228e94ad",
   "metadata": {},
   "outputs": [],
   "source": [
    "student[0] = 'Mohammed'"
   ]
  },
  {
   "cell_type": "code",
   "execution_count": 26,
   "id": "56ed3cb1-4c89-4024-8f99-88d0cb0aab8f",
   "metadata": {},
   "outputs": [
    {
     "name": "stdout",
     "output_type": "stream",
     "text": [
      "['Mohammed', 'asm', 'Kaleem', 'zaki', 'test', 'Shafi', 'Venkat']\n"
     ]
    }
   ],
   "source": [
    "print(student)"
   ]
  },
  {
   "cell_type": "code",
   "execution_count": 29,
   "id": "60174526-181a-4387-bacf-f981de7ac03b",
   "metadata": {},
   "outputs": [],
   "source": [
    "del student[1]"
   ]
  },
  {
   "cell_type": "code",
   "execution_count": 30,
   "id": "979b7b25-c2cc-48a5-ba0e-667f7863a89f",
   "metadata": {},
   "outputs": [
    {
     "name": "stdout",
     "output_type": "stream",
     "text": [
      "['Mohammed', 'Kaleem', 'zaki', 'test', 'Shafi', 'Venkat']\n"
     ]
    }
   ],
   "source": [
    "print(student)"
   ]
  },
  {
   "cell_type": "code",
   "execution_count": null,
   "id": "060b5f60-b0dc-45cd-843f-371f03479d23",
   "metadata": {},
   "outputs": [],
   "source": []
  }
 ],
 "metadata": {
  "kernelspec": {
   "display_name": "Python [conda env:base] *",
   "language": "python",
   "name": "conda-base-py"
  },
  "language_info": {
   "codemirror_mode": {
    "name": "ipython",
    "version": 3
   },
   "file_extension": ".py",
   "mimetype": "text/x-python",
   "name": "python",
   "nbconvert_exporter": "python",
   "pygments_lexer": "ipython3",
   "version": "3.13.5"
  }
 },
 "nbformat": 4,
 "nbformat_minor": 5
}
